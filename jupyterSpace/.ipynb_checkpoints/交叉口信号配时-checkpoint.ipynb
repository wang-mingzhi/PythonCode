{
 "cells": [
  {
   "cell_type": "markdown",
   "metadata": {},
   "source": [
    "# 交叉口信号配时\n",
    "\n",
    "作者：王明智；Email：1765471602@qq.com"
   ]
  },
  {
   "cell_type": "markdown",
   "metadata": {},
   "source": [
    "## 导入第三方库"
   ]
  },
  {
   "cell_type": "code",
   "execution_count": 1,
   "metadata": {
    "ExecuteTime": {
     "end_time": "2020-10-04T13:09:12.351557Z",
     "start_time": "2020-10-04T13:09:06.841557Z"
    }
   },
   "outputs": [],
   "source": [
    "import pandas as pd\n",
    "import numpy as np"
   ]
  },
  {
   "cell_type": "markdown",
   "metadata": {},
   "source": [
    "## 信号配时\n",
    "\n",
    "#车道：左转 |直行 |右转 |直右 |直左 |直左右 |左右\n",
    "#左转：1550 |0   |0   |0   |700  |500   |1100\n",
    "#直行：0   |1650 |0   |1550 |1100 |500   |0\n",
    "#右转：0   |0   |1550 |500  |0   |500   |550"
   ]
  },
  {
   "cell_type": "code",
   "execution_count": 43,
   "metadata": {
    "ExecuteTime": {
     "end_time": "2020-10-04T15:03:23.788569Z",
     "start_time": "2020-10-04T15:03:23.753591Z"
    },
    "scrolled": true
   },
   "outputs": [
    {
     "name": "stdout",
     "output_type": "stream",
     "text": [
      "NEMA相位方案：\n",
      "周期时长: 75\n",
      "有效绿灯时间: 55\n",
      "绿灯时间：北左:10 北直:4 南左:11 南直:5\n",
      "绿灯时间：东左:11 东直:20 西左:20 西直:29\n",
      "\r\n",
      "传统相位方案：\n",
      "周期时长: 87\n",
      "有效绿灯时间: 67\n",
      "进口道绿灯时间：北11 东21 南12 西23\n"
     ]
    }
   ],
   "source": [
    "def nema_phase(s, flow):\n",
    "    y = flow / saturated_flow\n",
    "    y1 = y[0][0] + y[2][1] if y[0][0] + y[2][1] > y[0][1] + y[2][0] else y[0][1] + y[2][0]  # 南北向流量比\n",
    "    y2 = y[1][0] + y[3][1] if y[1][0] + y[3][1] > y[1][1] + y[3][0] else y[1][1] + y[3][0]  # 东西向流量比\n",
    "    L = 5 * 4                         # 总损失时间\n",
    "    Y = y1 + y2                       # 流量比总和\n",
    "    C = int((1.5 * L + 6)/(1 - Y))\n",
    "    print('周期时长:', C)\n",
    "    ge = C - L        \n",
    "    print('有效绿灯时间:', ge)\n",
    "    \n",
    "    ge1 = int(ge * y1 / Y)  # 南北向显示绿灯时间\n",
    "    ge13 = int(ge1 * y[0][0] / (y[0][0] + y[2][1]))\n",
    "    ge14 = ge1 - ge13\n",
    "    ge17 = int(ge1 * y[2][0] / (y[2][0] + y[0][1]))\n",
    "    ge18 = ge1 - ge17\n",
    "    print('绿灯时间：北左:{0} 北直:{1} 南左:{2} 南直:{3}'.format(ge13, ge18, ge17, ge14))\n",
    "    \n",
    "    ge2 = ge - ge1  # 东西向显示绿灯时间\n",
    "    ge21 = int(ge2 * y[3][0] / (y[3][0] + y[1][1]))\n",
    "    ge22 = ge2 - ge21\n",
    "    ge25 = int(ge2 * y[1][0] / (y[1][0] + y[3][1]))\n",
    "    ge26 = ge2 - ge25\n",
    "    print('绿灯时间：东左:{0} 东直:{1} 西左:{2} 西直:{3}'.format(ge25, ge22, ge21, ge26))\n",
    "    \n",
    "\n",
    "\n",
    "def traditional_phase(s, flow):\n",
    "    y = flow / saturated_flow\n",
    "    yy = np.amax(y, axis=1)\n",
    "    Y = yy.sum()\n",
    "    L = 5 * 4\n",
    "    C = int((1.5 * L + 6)/(1 - Y))\n",
    "    print('周期时长:', C)\n",
    "    ge = C - L        \n",
    "    print('有效绿灯时间:', ge)\n",
    "    ge1 = int(ge * yy[0] / Y)\n",
    "    ge2 = int(ge * yy[1] / Y)\n",
    "    ge3 = int(ge * yy[2] / Y)\n",
    "    ge4 = ge - ge1 - ge2 - ge3\n",
    "    print('进口道绿灯时间：北{0} 东{1} 南{2} 西{3}'.format(ge1, ge2, ge3, ge4))\n",
    "\n",
    "\n",
    "# 车道通行能力（N）：3*7矩阵\n",
    "traffic_capacity = np.array([[1550, 0, 0, 0, 700, 500, 1100], \n",
    "                             [0, 1650, 0, 1550, 1100, 500, 0],\n",
    "                             [0, 0, 1550, 500, 0, 500, 550]])\n",
    "# 车道数： 左转、直行、右转、直右、直左、直左右、左右；北进口、东进口、南进口、西进口\n",
    "lans = np.array([[1, 1, 1, 0, 0, 0, 0],\n",
    "                 [1, 3, 1, 0, 0, 0, 0],\n",
    "                 [0, 1, 1, 0, 1, 0, 0],\n",
    "                 [1, 2, 1, 0, 1, 0, 0]])\n",
    "saturated_flow = np.dot(lans, traffic_capacity.T)  # 饱和流率\n",
    "# 左转流量、直行流量、右转流量；北进口、东进口、南进口、西进口\n",
    "flow = [[163, 55, 0], [70, 917, 0], [78, 115, 0], [425, 495, 0]]\n",
    "\n",
    "print('NEMA相位方案：')\n",
    "nema_phase(saturated_flow, flow)\n",
    "print('\\r\\n传统相位方案：')\n",
    "traditional_phase(saturated_flow, flow)"
   ]
  },
  {
   "cell_type": "code",
   "execution_count": 37,
   "metadata": {
    "ExecuteTime": {
     "end_time": "2020-10-04T14:55:56.968756Z",
     "start_time": "2020-10-04T14:55:56.934775Z"
    }
   },
   "outputs": [
    {
     "name": "stdout",
     "output_type": "stream",
     "text": [
      "周期时长： 70\n",
      "[[0.10516129 0.03333333 0.        ]\n",
      " [0.04516129 0.18525253 0.        ]\n",
      " [0.11142857 0.04181818 0.        ]\n",
      " [0.18888889 0.1125     0.        ]]\n"
     ]
    },
    {
     "data": {
      "text/plain": [
       "array([0.10516129, 0.18525253, 0.11142857, 0.18888889])"
      ]
     },
     "execution_count": 37,
     "metadata": {},
     "output_type": "execute_result"
    }
   ],
   "source": [
    "y = flow / saturated_flow\n",
    "y1 = y[0][0] + y[2][1] if y[0][0] + y[2][1] > y[0][1] + y[2][0] else y[0][1] + y[2][0]\n",
    "y2 = y[1][0] + y[3][1] if y[1][0] + y[3][1] > y[1][1] + y[3][0] else y[1][1] + y[3][0]\n",
    "L = 5 * 4\n",
    "Y = y1 + y2\n",
    "cyclelength = (1.4 * L + 6)/(1 - Y)\n",
    "print('周期时长：', int(cyclelength))\n",
    "print(y)\n",
    "np.amax(y, axis=1)"
   ]
  }
 ],
 "metadata": {
  "kernelspec": {
   "display_name": "Python 3",
   "language": "python",
   "name": "python3"
  },
  "language_info": {
   "codemirror_mode": {
    "name": "ipython",
    "version": 3
   },
   "file_extension": ".py",
   "mimetype": "text/x-python",
   "name": "python",
   "nbconvert_exporter": "python",
   "pygments_lexer": "ipython3",
   "version": "3.8.5"
  },
  "toc": {
   "base_numbering": 1,
   "nav_menu": {},
   "number_sections": true,
   "sideBar": true,
   "skip_h1_title": false,
   "title_cell": "Table of Contents",
   "title_sidebar": "Contents",
   "toc_cell": false,
   "toc_position": {},
   "toc_section_display": true,
   "toc_window_display": true
  }
 },
 "nbformat": 4,
 "nbformat_minor": 4
}
