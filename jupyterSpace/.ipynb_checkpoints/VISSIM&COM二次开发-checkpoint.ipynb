{
 "cells": [
  {
   "cell_type": "markdown",
   "metadata": {},
   "source": [
    "# VISSIM&COM二次开发\n",
    "\n",
    "编码：utf-8；作者：王明智；Email：1765471602@qq.com\n",
    "参考链接：https://zhuanlan.zhihu.com/p/41752968"
   ]
  },
  {
   "cell_type": "markdown",
   "metadata": {},
   "source": [
    "## 导入第三方库"
   ]
  },
  {
   "cell_type": "code",
   "execution_count": 1,
   "metadata": {
    "ExecuteTime": {
     "end_time": "2008-10-04T01:21:59.198221Z",
     "start_time": "2008-10-04T01:21:58.990438Z"
    }
   },
   "outputs": [],
   "source": [
    "import win32com.client as com"
   ]
  },
  {
   "cell_type": "markdown",
   "metadata": {},
   "source": [
    "## 模型参数调整\n",
    "\n",
    "比方说，某个路径上的输入流量是变化的，0-600是一个比值，600-1200又是一个....此时用手去输入是十分麻烦的一个事情，借助COM来实现一下。由于本文采用的是VISSIM4.3破解版，对流量数据的录入无法调用COM接口实现，因此流量的时间段及各时间段对应的流量值需要人工录入。而对于路径，则可以借助AddTimeInterval()操作来实现。\n",
    "\n",
    "在运行之前要把系统时间调整为2008年\n",
    "\n",
    "跟驰模型参数：\n",
    "CC0（0.5-2.5m）：平均停车间距，两个停止车辆之间的平均期望间隔距离，没有变量\n",
    "CC1（0.7-2s）：期望车头时距，后车驾驶员对于某一个确定得速度而期望保持的车头时距\n",
    "CC2（2-8m）：跟驰随机振荡距离，前后车的纵向摆动约束，是后车驾驶员在有所反应、行动之前，所允许的车辆间距大于目标安全距离的部分\n",
    "CC3（-10至-2s）：进入跟车状态的阈值，在后车达到安全距离之前多少秒，后车驾驶员开始减速\n",
    "CC4/5（0.06-2）：“跟车”状态的阈值，控制“跟车”状态下前后车的速度差，该值越小后车驾驶员对前车加/减速行为的反映越灵敏\n",
    "CC6（0-20）：车速震动，跟驰过程中，距离对后车速度摆动的影响\n",
    "CC7（0-2m/s^2）：振动加速度，摆动过程中的实际加速度\n",
    "CC8（2-3.5m/s^2）：停车加速度，停车启动时的期望加速度\n",
    "CC9（0.5-2m/s^2）：80公里/小时车速时的加速度\n",
    "\n",
    "换道模型参数：\n",
    "消失前的等待时间（30-120s）：定义了车辆在紧急停车位置等待车道变换空挡出现的最长时间，达到该值时车辆将从路网中小时\n",
    "最小车头空距（0.1-0.6m）：静止状态下，成功超车所需的前后车间的最小车头间距\n",
    "安全折减系数（0.05-0.6）：当发生车辆换道时，VISSIM通过把原始的安全距离乘以安全折减系数，只要换道行为结束，安全距离重新恢复到原始的初始的值"
   ]
  },
  {
   "cell_type": "code",
   "execution_count": null,
   "metadata": {},
   "outputs": [],
   "source": [
    "vissim_com = com.Dispatch(\"Vissim.Vissim\")\n",
    "vnet = vissim_com.net\n",
    "\n",
    "# 修改驾驶行为参数，zhenjiao中存储着需要校核的参数值\n",
    "dbps = vnet.DrivingBehaviorParSets\n",
    "dbps[2].SetAttValue('CC0', zhenjiao.iloc[rr, 0])\n",
    "dbps[2].SetAttValue('CC1', zhenjiao.iloc[rr, 1])\n",
    "dbps[2].SetAttValue('CC2', float(zhenjiao.iloc[rr, 2]))\n",
    "dbps[2].SetAttValue('CC4', zhenjiao.iloc[rr, 3])\n",
    "dbps[2].SetAttValue('CC5', -zhenjiao.iloc[rr, 3])\n",
    "\n",
    "# 设置不同时间段及相应的流量\n",
    "decisions = vnet.RoutingDecisions\n",
    "id = decisions.AddStaticRoutingDecision(1, 20)\n",
    "decision_1 = decisions.GetRoutingDecisionByNumber(id)\n",
    "for jj in range(600, 3600, 150):\n",
    "    print(jj)\n",
    "    decision_1.SetAttValue1('timeuntil', 1, jj)\n",
    "    index = decision_1.AddTimeInterval(jj + 300, jj + 600)\n",
    "decision_1.SetAttValue1('timeuntil', 1, 600)"
   ]
  },
  {
   "cell_type": "markdown",
   "metadata": {},
   "source": [
    "## 信号控制方案调整\n",
    "\n",
    "State: 1 = Red, 2 = Redamber, 3 = Green, 4 = Amber, 5 = Off, 6 = Undefined, 7 = Flashing Amber, 8 = Flashing Red, 9 = Flashing Green,10 = Flashing Redgreen, 11 = Greenamber, 12 = Off_red\n",
    "Type: 1 = cycle, 2 = Permanent green, 3 = Permanent Red"
   ]
  },
  {
   "cell_type": "code",
   "execution_count": null,
   "metadata": {},
   "outputs": [],
   "source": [
    "def adjust_signal():\n",
    "    scs = Vissim.Net.SignalControllers\n",
    "    sc = scs.GetSignalControllerByNumber(1)\n",
    "    cycle_time = 120\n",
    "    sc.set('AttValue', 'CycleTime', cycle_time)     # set cycle time\n",
    "    sgs = sc.SignalGroups                           # create signal group objects\n",
    "    sg_1 = sgs.GetSignalGroupByNumber(1)\n",
    "    sg_2 = sgs.GetSignalGroupByNumber(2)\n",
    "    sg_1.set('AttValue', 'State', 3)\n",
    "    sg_2.set('AttValue', 'State', 1)                 # set red signal for sg_2"
   ]
  },
  {
   "cell_type": "markdown",
   "metadata": {},
   "source": [
    "## 模拟仿真\n",
    "\n",
    "平均停车次数、平均行驶速度、平均延误以及排队长度这4个指标"
   ]
  },
  {
   "cell_type": "code",
   "execution_count": 8,
   "metadata": {
    "ExecuteTime": {
     "end_time": "2008-10-04T02:39:01.621112Z",
     "start_time": "2008-10-04T02:38:44.743471Z"
    }
   },
   "outputs": [],
   "source": [
    "# 导入路网\n",
    "vissim_com = com.Dispatch(\"Vissim.Vissim\")\n",
    "vissim_com.LoadNet(r\"F:\\18120900\\桌面\\毕业论文\\Vissim仿真分析\\第一版模型\\深圳交叉口仿真.inp\")\n",
    "vissim_com.LoadLayout(r\"F:\\18120900\\桌面\\毕业论文\\Vissim仿真分析\\第一版模型\\深圳交叉口仿真.in0\")\n",
    "\n",
    "# 建立评价指标，建立评价指标后需要在VISSM中设置相应检测器才能检测到数据\n",
    "eval = vissim_com.Evaluation\n",
    "eval.SetAttValue('DATACOLLECTION', True)  # 打开离线评价按钮\n",
    "eval.SetAttValue('TRAVELTIME', True)      # 打开记录车辆旅行时间选项\n",
    "eval.SetAttValue('QUEUELENGTH', True)     # 打开记录车辆排队长度选项\n",
    "eval.SetAttValue('DELAY', True)           # 打开记录车辆延误选项\n",
    "dceval = eval.DataCollectionEvaluation\n",
    "dceval.SetAttValue('FILE', True)\n",
    "dceval.SetAttValue('COMPILED', True)\n",
    "\n",
    "# 设置仿真参数\n",
    "Sim = vissim_com.simulation\n",
    "Sim.SetAttValue('PERIOD', 3600)            # 设置仿真时长\n",
    "Sim.RandomSeed = 40                        # 设置随机种子，保证每次的仿真结果一致\n",
    "# Sim.RunIndex = 0                           # 仿真开始的时刻\n",
    "# Sim.RunContinuous()                        # 开始仿真\n",
    "# Sim.stop()                                 # 仿真结束\n",
    "\n",
    "# 每个时间步处理一次数据，运行时间很长\n",
    "for SimStep in range(1, Sim.Period*Sim.Resolution):\n",
    "    Sim.RunSingleStep\n",
    "    Vis.DoEvents # allow VISSIM to handle its events"
   ]
  },
  {
   "cell_type": "markdown",
   "metadata": {},
   "source": [
    "## 仿真结果分析与展示"
   ]
  },
  {
   "cell_type": "code",
   "execution_count": null,
   "metadata": {},
   "outputs": [],
   "source": [
    "# 读取评价文件\n",
    "os.chdir('C:\\\\Users\\\\lenovo\\\\Desktop\\\\[HW]Traffic Flow\\\\VISSIM HOMEWORK')\n",
    "tem = pd.read_table('homework0.mes', encoding='gbk')\n",
    "tem = tem[21:].reset_index(drop=True)\n",
    "tem.columns = ['DATA']\n",
    "tem1 = DataFrame([var.split(';') for var in tem.DATA])\n",
    "tem1.columns = ['ID', 'TF', 'TT', 'VOLUME', 'SPEED']\n",
    "tem1 = tem1.applymap(float)\n",
    "tem1['TIMEID'] = tem1['TF'] / 300 - 1\n",
    "\n",
    "# 绘图并保存\n",
    "f, ax = plt.subplots(figsize=(16, 9))\n",
    "v = np.linspace(0, 125, 15, endpoint=True)\n",
    "Contour0 = tem1[['ID', 'SPEED', 'TIMEID']].pivot('ID', 'TIMEID', 'SPEED')\n",
    "plt.contourf(Contour0, v, cmap='RdYlGn')\n",
    "plt.colorbar()\n",
    "FNEED1 = NEED[(NEED.NAME.isin(MAIN_CN)) & (NEED.DATE <= pd.Timestamp('2011-05-04 17:30:00')) & (\n",
    "    NEED.DATE >= pd.Timestamp('2011-05-04 12:00:00'))]\n",
    "xlabels = [var.strftime('%H:%M') for var in FNEED1['DATE'].drop_duplicates()]\n",
    "ax.set_xticks(range(0, len(xlabels)-1, 6))\n",
    "ax.set_xticklabels(xlabels[::6])\n",
    "ax.set_yticklabels(MAIN_CN)\n",
    "ax.set_ylabel('COIL-ID')\n",
    "ax.set_xlabel('TIME-ID')\n",
    "plt.xticks(rotation=90)\n",
    "plt.yticks()\n",
    "plt.show()\n",
    "savefig(str(rr+1)+'.jpg')"
   ]
  }
 ],
 "metadata": {
  "kernelspec": {
   "display_name": "Python 3",
   "language": "python",
   "name": "python3"
  },
  "language_info": {
   "codemirror_mode": {
    "name": "ipython",
    "version": 3
   },
   "file_extension": ".py",
   "mimetype": "text/x-python",
   "name": "python",
   "nbconvert_exporter": "python",
   "pygments_lexer": "ipython3",
   "version": "3.8.5"
  },
  "toc": {
   "base_numbering": 1,
   "nav_menu": {},
   "number_sections": true,
   "sideBar": true,
   "skip_h1_title": false,
   "title_cell": "Table of Contents",
   "title_sidebar": "Contents",
   "toc_cell": false,
   "toc_position": {},
   "toc_section_display": true,
   "toc_window_display": true
  }
 },
 "nbformat": 4,
 "nbformat_minor": 4
}
