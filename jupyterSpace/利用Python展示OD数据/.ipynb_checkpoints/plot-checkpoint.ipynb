{
 "cells": [
  {
   "cell_type": "markdown",
   "metadata": {},
   "source": [
    "# 用Python展示OD数据\n",
    "\n",
    "编码：utf-8；作者：王明智；Email：1765471602@qq.com"
   ]
  },
  {
   "cell_type": "markdown",
   "metadata": {},
   "source": [
    "## 导入第三方库"
   ]
  },
  {
   "cell_type": "code",
   "execution_count": 3,
   "metadata": {
    "ExecuteTime": {
     "end_time": "2020-10-01T06:19:41.843950Z",
     "start_time": "2020-10-01T06:19:39.540915Z"
    }
   },
   "outputs": [],
   "source": [
    "import matplotlib.pyplot as plt\n",
    "from matplotlib import cm\n",
    "from numpy import linspace\n",
    "import mapclassify as mpc\n",
    "import geopandas as gpd\n",
    "import pandas as pd"
   ]
  },
  {
   "cell_type": "markdown",
   "metadata": {},
   "source": [
    "## 设置全局变量"
   ]
  },
  {
   "cell_type": "code",
   "execution_count": 4,
   "metadata": {
    "ExecuteTime": {
     "end_time": "2020-10-01T06:19:46.374986Z",
     "start_time": "2020-10-01T06:19:46.245570Z"
    }
   },
   "outputs": [
    {
     "name": "stdout",
     "output_type": "stream",
     "text": [
      "Using matplotlib backend: Qt5Agg\n"
     ]
    }
   ],
   "source": [
    "%matplotlib auto"
   ]
  },
  {
   "cell_type": "markdown",
   "metadata": {},
   "source": [
    "## 读取成都市Shape文件"
   ]
  },
  {
   "cell_type": "code",
   "execution_count": 5,
   "metadata": {
    "ExecuteTime": {
     "end_time": "2020-10-01T06:19:49.974025Z",
     "start_time": "2020-10-01T06:19:49.755647Z"
    }
   },
   "outputs": [],
   "source": [
    "chengdu = gpd.read_file('成都街道/chengdu.shp')"
   ]
  },
  {
   "cell_type": "markdown",
   "metadata": {},
   "source": [
    "## 展示OD数据"
   ]
  },
  {
   "cell_type": "code",
   "execution_count": 10,
   "metadata": {
    "ExecuteTime": {
     "end_time": "2020-10-01T06:23:58.282492Z",
     "start_time": "2020-10-01T06:23:58.255506Z"
    }
   },
   "outputs": [],
   "source": [
    "def plot_flow(od_matrix, name, title):\n",
    "    start = 0.0\n",
    "    stop = 1.0\n",
    "    number_of_lines = 5\n",
    "    cm_subsection = linspace(start, stop, number_of_lines)\n",
    "    colors = [cm.Spectral_r(x) for x in cm_subsection]\n",
    "\n",
    "    df = od_matrix.copy()\n",
    "    df_class = mpc.NaturalBreaks(df['ridership'])\n",
    "    df['class'] = df_class.yb\n",
    "    bins = df_class.bins\n",
    "    fig, ax = plt.subplots(1, 1, figsize=(6, 6))\n",
    "\n",
    "    chengdu.plot(figsize=(6, 6), facecolor='none',\n",
    "                 edgecolor='black', linewidth=0.6, ax=ax, alpha=1)\n",
    "    for i in range(len(bins)):\n",
    "        sub = df[df['class'] == i]\n",
    "        for j in sub.index:\n",
    "            ax.annotate(\"\", xy=(sub.loc[j, 'ori_x'], sub.loc[j, 'ori_y']),\n",
    "                        xytext=(sub.loc[j, 'end_x'], sub.loc[j, 'end_y']),\n",
    "                        arrowprops=dict(arrowstyle=\"-\", color=colors[i], linewidth=0.5, alpha=0.8,\n",
    "                                        shrinkA=0, shrinkB=0, patchA=None, patchB=None,\n",
    "                                        connectionstyle=\"arc3,rad=0.3\"))\n",
    "\n",
    "    ax.set_title(title, fontsize=16)\n",
    "    ax.set_xlim(103.89, 104.24)\n",
    "    ax.set_ylim(30.54, 30.8)\n",
    "    line1, _ = ax.plot(((0, 0), (1, 1)), color=colors[0], alpha=0.8)\n",
    "    line2, _ = ax.plot(((0, 0), (1, 1)), color=colors[1], alpha=0.8)\n",
    "    line3, _ = ax.plot(((0, 0), (1, 1)), color=colors[2], alpha=0.8)\n",
    "    line4, _ = ax.plot(((0, 0), (1, 1)), color=colors[3], alpha=0.8)\n",
    "    line5, _ = ax.plot(((0, 0), (1, 1)), color=colors[4], alpha=1)\n",
    "    plt.legend((line1, line2, line3, line4, line5), \n",
    "               ['0.0 - {}'.format(round(bins[0], 1)), \n",
    "                '{} - {}'.format(round(bins[0], 1), round(bins[1], 1)), \n",
    "                '{} - {}'.format(round(bins[1], 1), round(bins[2], 1)), \n",
    "                '{} - {}'.format(round(bins[2], 1), round(bins[3], 1)), \n",
    "                '{} - {}'.format(round(bins[3], 1), round(bins[4], 1))], \n",
    "               framealpha=1, title='Trips', facecolor='whitesmoke')\n",
    "    plt.xticks([])\n",
    "    plt.yticks([])\n",
    "    plt.show()\n",
    "#     plt.axis('off')\n",
    "#     plt.savefig(name,dpi=300,transparent=True,pad_inches=0)\n",
    "#     plt.close(fig=fig)"
   ]
  },
  {
   "cell_type": "code",
   "execution_count": 11,
   "metadata": {
    "ExecuteTime": {
     "end_time": "2020-10-01T06:24:01.493154Z",
     "start_time": "2020-10-01T06:24:00.641270Z"
    }
   },
   "outputs": [
    {
     "name": "stderr",
     "output_type": "stream",
     "text": [
      "No handles with labels found to put in legend.\n"
     ]
    }
   ],
   "source": [
    "# for i in range(24):\n",
    "#     hour = pd.read_csv('{}小时od.csv'.format(i))\n",
    "#     plot_flow(hour,'{}:00'.format(i),'{}:00'.format(i))\n",
    "plot_flow(pd.read_csv('0小时od.csv'),'0:00','0:00')"
   ]
  },
  {
   "cell_type": "code",
   "execution_count": null,
   "metadata": {},
   "outputs": [],
   "source": []
  }
 ],
 "metadata": {
  "kernelspec": {
   "display_name": "Python 3",
   "language": "python",
   "name": "python3"
  },
  "language_info": {
   "codemirror_mode": {
    "name": "ipython",
    "version": 3
   },
   "file_extension": ".py",
   "mimetype": "text/x-python",
   "name": "python",
   "nbconvert_exporter": "python",
   "pygments_lexer": "ipython3",
   "version": "3.8.5"
  },
  "toc": {
   "base_numbering": 1,
   "nav_menu": {
    "height": "113px",
    "width": "185px"
   },
   "number_sections": true,
   "sideBar": true,
   "skip_h1_title": false,
   "title_cell": "Table of Contents",
   "title_sidebar": "Contents",
   "toc_cell": false,
   "toc_position": {
    "height": "215px",
    "left": "957px",
    "top": "110px",
    "width": "181.188px"
   },
   "toc_section_display": true,
   "toc_window_display": true
  }
 },
 "nbformat": 4,
 "nbformat_minor": 4
}
