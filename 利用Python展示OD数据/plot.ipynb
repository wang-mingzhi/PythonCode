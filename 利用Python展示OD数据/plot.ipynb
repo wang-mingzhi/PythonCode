{
 "cells": [
  {
   "cell_type": "code",
   "execution_count": 1,
   "metadata": {},
   "outputs": [],
   "source": [
    "import matplotlib.pyplot as plt\n",
    "from matplotlib import cm\n",
    "from numpy import linspace\n",
    "import mapclassify as mpc\n",
    "from plot_map import plot_map\n",
    "import geopandas as gpd\n",
    "import pandas as pd"
   ]
  },
  {
   "cell_type": "code",
   "execution_count": 2,
   "metadata": {},
   "outputs": [],
   "source": [
    "chengdu = gpd.read_file('成都街道/chengdu.shp')"
   ]
  },
  {
   "cell_type": "code",
   "execution_count": 3,
   "metadata": {},
   "outputs": [],
   "source": [
    "def plot_flow(od_matrix,name,title):\n",
    "    start = 0.0\n",
    "    stop = 1.0\n",
    "    number_of_lines= 5\n",
    "    cm_subsection = linspace(start, stop, number_of_lines) \n",
    "    colors = [ cm.Spectral_r(x) for x in cm_subsection ]\n",
    "    \n",
    "    df = od_matrix.copy()\n",
    "    df_class = mpc.NaturalBreaks(df['ridership'])\n",
    "    df['class'] = df_class.yb\n",
    "    bins = df_class.bins\n",
    "    fig,ax = plt.subplots(1,1,figsize=(15,15))\n",
    "    plot_map(plt,[103.82642754999998,30.489311600000022,104.3189514500001,30.824820399999947],style=4,zoom=12)\n",
    "    \n",
    "    chengdu.plot(figsize=(15,15),facecolor='none',edgecolor='black',linewidth=0.6,ax=ax,alpha=1)\n",
    "    for i in range(len(bins)):\n",
    "        sub = df[df['class']==i]\n",
    "        for j in sub.index:\n",
    "            ax.annotate(\"\",\n",
    "                        xy=(sub.loc[j,'ori_x'],sub.loc[j,'ori_y']), \n",
    "                        xytext=(sub.loc[j,'end_x'],sub.loc[j,'end_y']),\n",
    "                        arrowprops=dict(arrowstyle=\"-\", color=colors[i],linewidth=0.5,alpha=0.8,\n",
    "                                        shrinkA=0, shrinkB=0,\n",
    "                                        patchA=None, patchB=None,\n",
    "                                        connectionstyle=\"arc3,rad=0.3\",\n",
    "                                        ),\n",
    "                    )\n",
    "       \n",
    "    ax.set_title(title,fontsize=16)\n",
    "    ax.set_xlim(103.89,104.24)\n",
    "    ax.set_ylim(30.54,30.8)\n",
    "    line1,_ = ax.plot(((0,0),(1,1)),color=colors[0],alpha=0.8)\n",
    "    line2,_ = ax.plot(((0,0),(1,1)),color=colors[1],alpha=0.8)\n",
    "    line3,_ = ax.plot(((0,0),(1,1)),color=colors[2],alpha=0.8)\n",
    "    line4,_ = ax.plot(((0,0),(1,1)),color=colors[3],alpha=0.8)\n",
    "    line5,_ = ax.plot(((0,0),(1,1)),color=colors[4],alpha=1)\n",
    "    plt.legend((line1,line2,line3,line4,line5),['0.0 - {}'.format(round(bins[0],1)),'{} - {}'.format(round(bins[0],1),round(bins[1],1)),'{} - {}'.format(round(bins[1],1),round(bins[2],1)),'{} - {}'.format(round(bins[2],1),round(bins[3],1)),'{} - {}'.format(round(bins[3],1),round(bins[4],1))],framealpha=1,title='Trips',facecolor='whitesmoke')\n",
    "    plt.xticks([])\n",
    "    plt.yticks([])\n",
    "    #plt.axis('off')\n",
    "    plt.savefig(name,dpi=300,transparent=True,pad_inches=0)\n",
    "    plt.close(fig=fig)"
   ]
  },
  {
   "cell_type": "code",
   "execution_count": 62,
   "metadata": {},
   "outputs": [
    {
     "name": "stdout",
     "output_type": "stream",
     "text": [
      "imgsavepath do not exist, your tile map will not save\n",
      "imgsavepath do not exist, your tile map will not save\n",
      "imgsavepath do not exist, your tile map will not save\n",
      "imgsavepath do not exist, your tile map will not save\n",
      "imgsavepath do not exist, your tile map will not save\n",
      "imgsavepath do not exist, your tile map will not save\n",
      "imgsavepath do not exist, your tile map will not save\n",
      "imgsavepath do not exist, your tile map will not save\n",
      "imgsavepath do not exist, your tile map will not save\n",
      "imgsavepath do not exist, your tile map will not save\n",
      "imgsavepath do not exist, your tile map will not save\n",
      "imgsavepath do not exist, your tile map will not save\n",
      "imgsavepath do not exist, your tile map will not save\n",
      "imgsavepath do not exist, your tile map will not save\n",
      "imgsavepath do not exist, your tile map will not save\n",
      "imgsavepath do not exist, your tile map will not save\n",
      "imgsavepath do not exist, your tile map will not save\n",
      "imgsavepath do not exist, your tile map will not save\n",
      "imgsavepath do not exist, your tile map will not save\n",
      "imgsavepath do not exist, your tile map will not save\n",
      "imgsavepath do not exist, your tile map will not save\n",
      "imgsavepath do not exist, your tile map will not save\n",
      "imgsavepath do not exist, your tile map will not save\n",
      "imgsavepath do not exist, your tile map will not save\n"
     ]
    }
   ],
   "source": [
    "for i in range(24):\n",
    "    hour = pd.read_csv('{}小时od.csv'.format(i))\n",
    "    plot_flow(hour,'{}:00'.format(i),'{}:00'.format(i))"
   ]
  },
  {
   "cell_type": "code",
   "execution_count": null,
   "metadata": {},
   "outputs": [],
   "source": []
  }
 ],
 "metadata": {
  "kernelspec": {
   "display_name": "Python 3",
   "language": "python",
   "name": "python3"
  },
  "language_info": {
   "codemirror_mode": {
    "name": "ipython",
    "version": 3
   },
   "file_extension": ".py",
   "mimetype": "text/x-python",
   "name": "python",
   "nbconvert_exporter": "python",
   "pygments_lexer": "ipython3",
   "version": "3.7.7"
  }
 },
 "nbformat": 4,
 "nbformat_minor": 4
}
